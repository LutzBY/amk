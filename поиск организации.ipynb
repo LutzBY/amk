{
 "cells": [
  {
   "cell_type": "code",
   "execution_count": null,
   "id": "e01aa96c",
   "metadata": {},
   "outputs": [],
   "source": [
    "######################"
   ]
  },
  {
   "cell_type": "code",
   "execution_count": 1,
   "id": "c0bbe1eb",
   "metadata": {},
   "outputs": [],
   "source": [
    "import pandas as pd\n",
    "from openai import OpenAI, OpenAIError\n",
    "import yaml\n",
    "import time\n",
    "\n",
    "llm_iter_counter = 0\n"
   ]
  },
  {
   "cell_type": "code",
   "execution_count": 2,
   "id": "6ccd8b6d",
   "metadata": {},
   "outputs": [],
   "source": [
    "# Подгрузка ключей для openai\n",
    "with open (r'C:\\Users\\lutsevich\\Desktop\\py\\keys-openrouter-free-deepseek.yml', 'r', encoding='utf-8') as file:\n",
    "    config = yaml.safe_load(file)\n",
    "api_keys = [item['key'] for item in config.get('api_keys', []) if item.get('env') == 'org-find']"
   ]
  },
  {
   "cell_type": "code",
   "execution_count": 3,
   "id": "f6c63d69",
   "metadata": {},
   "outputs": [
    {
     "name": "stderr",
     "output_type": "stream",
     "text": [
      "c:\\Users\\lutsevich\\AppData\\Local\\Programs\\Python\\Python312\\Lib\\site-packages\\openpyxl\\worksheet\\_reader.py:223: UserWarning: Cell Q6031 is marked as a date but the serial value 3201101103 is outside the limits for dates. The cell will be treated as an error.\n",
      "  warn(msg)\n",
      "c:\\Users\\lutsevich\\AppData\\Local\\Programs\\Python\\Python312\\Lib\\site-packages\\openpyxl\\worksheet\\_reader.py:223: UserWarning: Cell Q6052 is marked as a date but the serial value 21007524 is outside the limits for dates. The cell will be treated as an error.\n",
      "  warn(msg)\n",
      "c:\\Users\\lutsevich\\AppData\\Local\\Programs\\Python\\Python312\\Lib\\site-packages\\openpyxl\\worksheet\\_reader.py:223: UserWarning: Cell Q6103 is marked as a date but the serial value 19000185 is outside the limits for dates. The cell will be treated as an error.\n",
      "  warn(msg)\n",
      "c:\\Users\\lutsevich\\AppData\\Local\\Programs\\Python\\Python312\\Lib\\site-packages\\openpyxl\\worksheet\\_reader.py:223: UserWarning: Cell Q6172 is marked as a date but the serial value 101810021080 is outside the limits for dates. The cell will be treated as an error.\n",
      "  warn(msg)\n",
      "c:\\Users\\lutsevich\\AppData\\Local\\Programs\\Python\\Python312\\Lib\\site-packages\\openpyxl\\worksheet\\_reader.py:223: UserWarning: Cell Q6206 is marked as a date but the serial value 861582758315 is outside the limits for dates. The cell will be treated as an error.\n",
      "  warn(msg)\n"
     ]
    }
   ],
   "source": [
    "# Импорт базы\n",
    "df = pd.read_excel(r\"V:\\00_Базы\\04_Базы регистрации\\База ГТН-РБ\\база 2019-6 мес. 2025 ГТН.xlsx\", sheet_name='основной массив', engine='openpyxl')\n",
    "\n",
    "# Выходной датафрейм\n",
    "df_exit = pd.DataFrame(columns=['title', 'location', 'district', 'answer'])"
   ]
  },
  {
   "cell_type": "code",
   "execution_count": 4,
   "id": "e26be786",
   "metadata": {},
   "outputs": [
    {
     "data": {
      "application/vnd.microsoft.datawrangler.viewer.v0+json": {
       "columns": [
        {
         "name": "index",
         "rawType": "object",
         "type": "string"
        },
        {
         "name": "Дата регистрации",
         "rawType": "object",
         "type": "unknown"
        }
       ],
       "ref": "7b5ece4c-0570-4505-ad7f-d662fb840188",
       "rows": [
        [
         "count",
         "3906"
        ],
        [
         "mean",
         "2023-02-18 20:04:25.437787904"
        ],
        [
         "min",
         "2019-01-03 00:00:00"
        ],
        [
         "25%",
         "2022-01-27 00:00:00"
        ],
        [
         "50%",
         "2023-05-31 00:00:00"
        ],
        [
         "75%",
         "2024-10-01 00:00:00"
        ],
        [
         "max",
         "2025-06-30 00:00:00"
        ]
       ],
       "shape": {
        "columns": 1,
        "rows": 7
       }
      },
      "text/html": [
       "<div>\n",
       "<style scoped>\n",
       "    .dataframe tbody tr th:only-of-type {\n",
       "        vertical-align: middle;\n",
       "    }\n",
       "\n",
       "    .dataframe tbody tr th {\n",
       "        vertical-align: top;\n",
       "    }\n",
       "\n",
       "    .dataframe thead th {\n",
       "        text-align: right;\n",
       "    }\n",
       "</style>\n",
       "<table border=\"1\" class=\"dataframe\">\n",
       "  <thead>\n",
       "    <tr style=\"text-align: right;\">\n",
       "      <th></th>\n",
       "      <th>Дата регистрации</th>\n",
       "    </tr>\n",
       "  </thead>\n",
       "  <tbody>\n",
       "    <tr>\n",
       "      <th>count</th>\n",
       "      <td>3906</td>\n",
       "    </tr>\n",
       "    <tr>\n",
       "      <th>mean</th>\n",
       "      <td>2023-02-18 20:04:25.437787904</td>\n",
       "    </tr>\n",
       "    <tr>\n",
       "      <th>min</th>\n",
       "      <td>2019-01-03 00:00:00</td>\n",
       "    </tr>\n",
       "    <tr>\n",
       "      <th>25%</th>\n",
       "      <td>2022-01-27 00:00:00</td>\n",
       "    </tr>\n",
       "    <tr>\n",
       "      <th>50%</th>\n",
       "      <td>2023-05-31 00:00:00</td>\n",
       "    </tr>\n",
       "    <tr>\n",
       "      <th>75%</th>\n",
       "      <td>2024-10-01 00:00:00</td>\n",
       "    </tr>\n",
       "    <tr>\n",
       "      <th>max</th>\n",
       "      <td>2025-06-30 00:00:00</td>\n",
       "    </tr>\n",
       "  </tbody>\n",
       "</table>\n",
       "</div>"
      ],
      "text/plain": [
       "                    Дата регистрации\n",
       "count                           3906\n",
       "mean   2023-02-18 20:04:25.437787904\n",
       "min              2019-01-03 00:00:00\n",
       "25%              2022-01-27 00:00:00\n",
       "50%              2023-05-31 00:00:00\n",
       "75%              2024-10-01 00:00:00\n",
       "max              2025-06-30 00:00:00"
      ]
     },
     "execution_count": 4,
     "metadata": {},
     "output_type": "execute_result"
    }
   ],
   "source": [
    "# Чистка df\n",
    "# 1. Убираем дубликаты по наименованию\n",
    "df_m = df[['Дата регистрации','Эксплуатирующая организация','Вид деятельности эксплуатирующей организации','Область','Район']].drop_duplicates(subset='Эксплуатирующая организация')\n",
    "# 2. Оставляем только те, у которых нет сферы деятельности\n",
    "df_m = df_m[df_m['Вид деятельности эксплуатирующей организации'].isna()]\n",
    "# 3. Заменяем кавычки\n",
    "df_m['Эксплуатирующая организация'] = df_m['Эксплуатирующая организация'].str.replace('\"', \"'\")\n",
    "df_m.describe() # 3906 count"
   ]
  },
  {
   "cell_type": "code",
   "execution_count": 5,
   "id": "351f35bf",
   "metadata": {},
   "outputs": [],
   "source": [
    "# Функция запроса к ллм-ке\n",
    "def run_llm(api_keys, title, location, district):\n",
    "  global llm_iter_counter\n",
    "  \n",
    "  # Цикл ключей\n",
    "  api_key = api_keys[llm_iter_counter % len(api_keys)]\n",
    "  # Промт вар 2 для сборки исходные + выход\n",
    "  messages=[\n",
    "  {\n",
    "      \"role\": \"system\",\n",
    "      \"content\": \n",
    "          \"Привет! Я даю тебе юридическое наименование и локацию предприятия из Беларуси, ты возвращаешь мне текст со сферой деятельности этого предприятия\"\n",
    "          \"Если не достигается высокая точность, то присваивай н.д.\"\n",
    "          \"Примеры:\"\n",
    "          \"Вход - Имя: ГОСУДАРСТВЕННОЕ ПРЕДПРИЯТИЕ 'ЗЕЛЬВЕНСКОЕ ПМС'; Область: Гродненская; Район: Зельвянский Выход - Мелиоративные предприятия'\"\n",
    "          \"Вход - Имя: БОРИСОВСКИЙ ОПЫТНЫЙ ЛЕСХОЗ; Область: Минская; Район: Борисовский Выход - Лесхозы\"\n",
    "          \"Вход - Имя: СЗАО 'РИНДИБЕЛ'; Область: Гродненская; Район: Волковысский Выход - Деревообработка\"\n",
    "          \"Вход - КСУП 'БЫВАЛЬКИ'; Область: Гомельская; Район: Лоевский Выход - Сельское хозяйство\"\n",
    "          \"Вход - Вход - ФИЛИАЛ ДЭУ-63 РУП 'МИНСКАВТОДОР-ЦЕНТР'; Область: Минская; Район: Вилейский Выход - Деятельность по эксплуатации автомобильных дорог\"\n",
    "  },\n",
    "  {\n",
    "      \"role\": 'user', 'content': f'Вход - Имя: {title}; Область: {location}; Район: {district}'\n",
    "  } \n",
    "  ]\n",
    "  # Выполнение\n",
    "  client = OpenAI(\n",
    "    base_url=\"https://openrouter.ai/api/v1\",\n",
    "    api_key=api_key,\n",
    "  )\n",
    "\n",
    "  completion = client.chat.completions.create(\n",
    "    extra_headers={\n",
    "      \"HTTP-Referer\": \"<YOUR_SITE_URL>\", # Optional. Site URL for rankings on openrouter.ai.\n",
    "      \"X-Title\": \"<YOUR_SITE_NAME>\", # Optional. Site title for rankings on openrouter.ai.\n",
    "    },\n",
    "    extra_body={},\n",
    "    model=\"deepseek/deepseek-chat-v3.1:free\",\n",
    "    messages=messages\n",
    "  )\n",
    "  return completion.choices[0].message.content"
   ]
  },
  {
   "cell_type": "code",
   "execution_count": null,
   "id": "62c8438e",
   "metadata": {},
   "outputs": [
    {
     "name": "stdout",
     "output_type": "stream",
     "text": [
      "9618: Имя: ООО 'САНЛЕС'; Область: Минская; Район: Слуцкий; Answer: н.д.\n",
      "9620: Имя: ЗАО 'ГОМЕЛЬСПЕЦСТРОЙ'; Область: Гомельская; Район: г. Гомель; Answer: Строительство\n",
      "Error 429 at index 9621: 'Rate limit exceeded: free-models-per-day. Add 10 credits to unlock 1000 free model requests per day'\n"
     ]
    }
   ],
   "source": [
    "# Подстановка значений по индексу\n",
    "for i, row in df_m.iterrows():\n",
    "    if i > max(df_exit.index): # 9620 (missing 2816 - 6514)\n",
    "        title = row['Эксплуатирующая организация'] \n",
    "        location = row['Область']\n",
    "        district = row['Район']\n",
    "        try:\n",
    "            answer = run_llm(api_keys, title, location, district)\n",
    "            llm_iter_counter +=1\n",
    "            print(f'{i}: Имя: {title}; Область: {location}; Район: {district}; Answer: {answer}')\n",
    "            df_exit.loc[i] = [title, location, district, answer]\n",
    "            time.sleep(5)\n",
    "        except OpenAIError as e:\n",
    "            print(f\"Error {e.body['code']} at index {i}: '{e.body['message']}'\")\n",
    "            break"
   ]
  },
  {
   "cell_type": "code",
   "execution_count": 11,
   "id": "387b77e5",
   "metadata": {},
   "outputs": [],
   "source": [
    "llm_iter_counter +=1"
   ]
  },
  {
   "cell_type": "code",
   "execution_count": 13,
   "id": "411bb7ee",
   "metadata": {},
   "outputs": [],
   "source": [
    "path = r'V:\\00_Базы\\04_Базы регистрации\\orgs2.xlsx'\n",
    "df_exit.to_excel(path)"
   ]
  }
 ],
 "metadata": {
  "kernelspec": {
   "display_name": "Python 3",
   "language": "python",
   "name": "python3"
  },
  "language_info": {
   "codemirror_mode": {
    "name": "ipython",
    "version": 3
   },
   "file_extension": ".py",
   "mimetype": "text/x-python",
   "name": "python",
   "nbconvert_exporter": "python",
   "pygments_lexer": "ipython3",
   "version": "3.12.2"
  }
 },
 "nbformat": 4,
 "nbformat_minor": 5
}
